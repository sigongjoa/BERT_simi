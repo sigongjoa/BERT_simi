{
 "cells": [
  {
   "cell_type": "code",
   "execution_count": 18,
   "metadata": {},
   "outputs": [],
   "source": [
    "import torch\n",
    "import numpy as np\n",
    "from transformers import BertTokenizerFast, BertModel"
   ]
  },
  {
   "cell_type": "code",
   "execution_count": 19,
   "metadata": {},
   "outputs": [
    {
     "name": "stderr",
     "output_type": "stream",
     "text": [
      "Some weights of the model checkpoint at kykim/bert-kor-base were not used when initializing BertModel: ['cls.seq_relationship.weight', 'cls.predictions.transform.LayerNorm.bias', 'cls.predictions.decoder.weight', 'cls.predictions.transform.dense.weight', 'cls.predictions.transform.dense.bias', 'cls.predictions.bias', 'cls.predictions.transform.LayerNorm.weight', 'cls.predictions.decoder.bias', 'cls.seq_relationship.bias']\n",
      "- This IS expected if you are initializing BertModel from the checkpoint of a model trained on another task or with another architecture (e.g. initializing a BertForSequenceClassification model from a BertForPreTraining model).\n",
      "- This IS NOT expected if you are initializing BertModel from the checkpoint of a model that you expect to be exactly identical (initializing a BertForSequenceClassification model from a BertForSequenceClassification model).\n"
     ]
    }
   ],
   "source": [
    "tokenizer = BertTokenizerFast.from_pretrained(\"kykim/bert-kor-base\")\n",
    "model = BertModel.from_pretrained(\"kykim/bert-kor-base\")"
   ]
  },
  {
   "cell_type": "code",
   "execution_count": 30,
   "metadata": {},
   "outputs": [],
   "source": [
    "import pandas as pd\n",
    "data = pd.read_csv(\"./data/BERT_action_hand.csv\")"
   ]
  },
  {
   "cell_type": "markdown",
   "metadata": {},
   "source": [
    "# BERT 단어 확인\n",
    "wordpeice tokenizer : 서브워드의 빈도수를 고려한 토큰화 방법 , 문자 단위로 나눈 문자를 이어 붙인 뒤 이어붙이기를 반복함 , 이때 자주 나오는 문자들에 대해서 토큰으로 만듬  \n",
    "> ref : https://jaeyoon-95.tistory.com/2  \n",
    "`[예문] 경찰청 철창살은 외 철창살이고 검찰청 철창살은 쌍철창살이다`  \n",
    "\n",
    "![](https://img1.daumcdn.net/thumb/R1280x0/?scode=mtistory2&fname=https%3A%2F%2Ft1.daumcdn.net%2Fcfile%2Ftistory%2F998B90505DCD152219)\n",
    "\n",
    "![](https://img1.daumcdn.net/thumb/R1280x0/?scode=mtistory2&fname=https%3A%2F%2Ft1.daumcdn.net%2Fcfile%2Ftistory%2F99EC174E5DCD152315)\n",
    "\n",
    "![](https://img1.daumcdn.net/thumb/R1280x0/?scode=mtistory2&fname=https%3A%2F%2Ft1.daumcdn.net%2Fcfile%2Ftistory%2F99A3AC4A5DCD152614)\n",
    "\n",
    "\n",
    "#### 문제점 : \n",
    "`명상`과 같이 하나의 단어인데 토크나이저가 분리 시켜버리는 경우에는 어떻게 해야 할까?  \n",
    "\n",
    "csv로 토크나이저의 결과를 저장  "
   ]
  },
  {
   "cell_type": "code",
   "execution_count": 31,
   "metadata": {},
   "outputs": [
    {
     "data": {
      "text/plain": [
       "['명',\n",
       " '##상은',\n",
       " '집',\n",
       " '##념',\n",
       " '##과',\n",
       " '감정',\n",
       " '##적',\n",
       " '동요',\n",
       " '##에서',\n",
       " '벗어나',\n",
       " '안정적인',\n",
       " '상태로',\n",
       " '만든다',\n",
       " '.']"
      ]
     },
     "execution_count": 31,
     "metadata": {},
     "output_type": "execute_result"
    }
   ],
   "source": [
    "tokenizer.tokenize(data['효능'][1])"
   ]
  },
  {
   "cell_type": "code",
   "execution_count": 32,
   "metadata": {},
   "outputs": [],
   "source": [
    "tok = []\n",
    "for idx in data.index:\n",
    "    tok.append(tokenizer.tokenize(data['효능'][idx]))\n",
    "    \n",
    "data['tokenized'] = tok"
   ]
  },
  {
   "cell_type": "code",
   "execution_count": 33,
   "metadata": {},
   "outputs": [],
   "source": [
    "data.to_csv(\"./bert_tokenized_excel.csv\", encoding='utf-8-sig')\n",
    "data.to_csv(\"./bert_tokenized.csv\")"
   ]
  },
  {
   "cell_type": "markdown",
   "metadata": {},
   "source": [
    "# BERT에 들어갈 때 2개의 문장을 하나의 seq로 입력을 넣음"
   ]
  },
  {
   "cell_type": "code",
   "execution_count": 34,
   "metadata": {},
   "outputs": [
    {
     "data": {
      "text/plain": [
       "['[CLS]',\n",
       " '명',\n",
       " '##상은',\n",
       " '긴장',\n",
       " '##된',\n",
       " '몸을',\n",
       " '이완',\n",
       " '##시킨다',\n",
       " '[SEP]',\n",
       " '몸과',\n",
       " '마음을',\n",
       " '안정',\n",
       " '##시키고',\n",
       " '편안하게',\n",
       " '만든다',\n",
       " '[SEP]']"
      ]
     },
     "execution_count": 34,
     "metadata": {},
     "output_type": "execute_result"
    }
   ],
   "source": [
    "encoding = tokenizer.encode(data['효능'][0].split(\".\")[0:2])\n",
    "tokenizer.convert_ids_to_tokens(encoding)"
   ]
  },
  {
   "cell_type": "code",
   "execution_count": null,
   "metadata": {},
   "outputs": [],
   "source": []
  },
  {
   "cell_type": "code",
   "execution_count": null,
   "metadata": {},
   "outputs": [],
   "source": []
  }
 ],
 "metadata": {
  "interpreter": {
   "hash": "f930088951e3dfac03a7eb812b8d23627d62fa3bb27ad45034a94c87625f03b9"
  },
  "kernelspec": {
   "display_name": "Python 3.9.7 ('base')",
   "language": "python",
   "name": "python3"
  },
  "language_info": {
   "codemirror_mode": {
    "name": "ipython",
    "version": 3
   },
   "file_extension": ".py",
   "mimetype": "text/x-python",
   "name": "python",
   "nbconvert_exporter": "python",
   "pygments_lexer": "ipython3",
   "version": "3.9.7"
  },
  "orig_nbformat": 4
 },
 "nbformat": 4,
 "nbformat_minor": 2
}
